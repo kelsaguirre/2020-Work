{
 "cells": [
  {
   "cell_type": "markdown",
   "metadata": {},
   "source": [
    "# Lab 4:"
   ]
  },
  {
   "cell_type": "markdown",
   "metadata": {},
   "source": [
    "Github Link: https://github.com/kelseyaguirre/Lab_4"
   ]
  },
  {
   "cell_type": "code",
   "execution_count": 76,
   "metadata": {},
   "outputs": [],
   "source": [
    "#import packages\n",
    "import pandas as pd\n",
    "import numpy as np\n",
    "import seaborn as sns\n",
    "import matplotlib.pyplot as plt"
   ]
  },
  {
   "cell_type": "code",
   "execution_count": 93,
   "metadata": {},
   "outputs": [],
   "source": [
    "#read in the listings CSV for Boston\n",
    "listings =  pd.read_csv('Documents/Data_Science_I/Week_10/Lab_4/listings.csv')\n",
    "#number of entries in the file\n",
    "num_listings = len(listings)"
   ]
  },
  {
   "cell_type": "code",
   "execution_count": 94,
   "metadata": {},
   "outputs": [],
   "source": [
    "#read in the reviews CSV for Boston\n",
    "reviews =  pd.read_csv('Documents/Data_Science_I/Week_10/Lab_4/reviews.csv')\n",
    "#number of entries in the file\n",
    "num_reviews = len(reviews)"
   ]
  },
  {
   "cell_type": "code",
   "execution_count": 70,
   "metadata": {
    "scrolled": true
   },
   "outputs": [],
   "source": [
    "#define the unique lisitngs in each of the two CSVs\n",
    "unique_listings = listings.id.nunique()\n",
    "unique_reviews = reviews.listing_id.nunique()"
   ]
  },
  {
   "cell_type": "markdown",
   "metadata": {},
   "source": [
    "## Question 1"
   ]
  },
  {
   "cell_type": "code",
   "execution_count": 71,
   "metadata": {},
   "outputs": [
    {
     "name": "stdout",
     "output_type": "stream",
     "text": [
      "There are 6264 entries in the lisitings CSV.\n",
      "There are 6264 unique identifiers in the lisitings CSV.\n"
     ]
    }
   ],
   "source": [
    "#return q1.1\n",
    "print(\"There are {} entries in the lisitings CSV.\".format(num_listings))\n",
    "#return q1.2\n",
    "print(\"There are {} unique identifiers in the lisitings CSV.\".format(unique_listings))"
   ]
  },
  {
   "cell_type": "markdown",
   "metadata": {},
   "source": [
    "## Question 2"
   ]
  },
  {
   "cell_type": "code",
   "execution_count": 72,
   "metadata": {},
   "outputs": [
    {
     "name": "stdout",
     "output_type": "stream",
     "text": [
      "There are 225880 entries in the reviews CSV.\n",
      "There are 5088 unique listings in the reviews CSV.\n"
     ]
    }
   ],
   "source": [
    "#return q2.1\n",
    "print(\"There are {} entries in the reviews CSV.\".format(num_reviews))\n",
    "#return q2.2\n",
    "print(\"There are {} unique listings in the reviews CSV.\".format(unique_reviews))"
   ]
  },
  {
   "cell_type": "markdown",
   "metadata": {},
   "source": [
    "There seem to be 1,176 listings without a review."
   ]
  },
  {
   "cell_type": "markdown",
   "metadata": {},
   "source": [
    "## Question 3"
   ]
  },
  {
   "cell_type": "code",
   "execution_count": 73,
   "metadata": {},
   "outputs": [
    {
     "name": "stdout",
     "output_type": "stream",
     "text": [
      "There are 227056 rows in this merged list.\n",
      "There are 6264 unique AirBnBs in this merged list.\n",
      "There are 1176 rows with NaN in this merged list.\n"
     ]
    }
   ],
   "source": [
    "#merge the two CSV files, keeping all from listings\n",
    "merged_1 = pd.merge(listings, reviews, left_on = 'id', right_on = \"listing_id\", how = \"left\")\n",
    "#define total rows\n",
    "rows_3 = len(merged_1)\n",
    "#define unique AirBnBs with this merge\n",
    "unique_bnb_3 = merged_1.id.nunique()\n",
    "#define how many rows were filled with NaNs\n",
    "NaN_3 = merged_1.listing_id.isnull().sum()\n",
    "\n",
    "#return q3.1\n",
    "print(\"There are {} rows in this merged list.\".format(rows_3))\n",
    "#return q3.2\n",
    "print(\"There are {} unique AirBnBs in this merged list.\".format(unique_bnb_3))\n",
    "#return q3.3\n",
    "print(\"There are {} rows with NaN in this merged list.\".format(NaN_3))"
   ]
  },
  {
   "cell_type": "markdown",
   "metadata": {},
   "source": [
    "## Question 4"
   ]
  },
  {
   "cell_type": "code",
   "execution_count": 74,
   "metadata": {},
   "outputs": [
    {
     "name": "stdout",
     "output_type": "stream",
     "text": [
      "There are 225880 rows in this merged list.\n",
      "There are 5088 unique AirBnBs in this merged list.\n"
     ]
    }
   ],
   "source": [
    "#merge the two CSV files while keeping all the reviews entries\n",
    "merged_2 = pd.merge(listings, reviews, left_on = 'id', right_on = \"listing_id\", how = \"right\")\n",
    "#define the number of rows after merged\n",
    "rows_4 = len(merged_2)\n",
    "#define the number of unique AirBnBs with this merge\n",
    "unique_bnb_4 = merged_2.listing_id.nunique()\n",
    "\n",
    "#return q4.1\n",
    "print(\"There are {} rows in this merged list.\".format(rows_4))\n",
    "#return q4.2\n",
    "print(\"There are {} unique AirBnBs in this merged list.\".format(unique_bnb_4))"
   ]
  },
  {
   "cell_type": "markdown",
   "metadata": {},
   "source": [
    "## Question 5"
   ]
  },
  {
   "cell_type": "code",
   "execution_count": 99,
   "metadata": {},
   "outputs": [
    {
     "name": "stdout",
     "output_type": "stream",
     "text": [
      "There are 1378 unique AirBnBs hosted by a 'superhost' in this merged data for Boston.\n",
      "There are 103518 'superhosts' in in this merged data for Boston.\n",
      "There are 70 'superhosts' without a review in this merged data for Boston.\n",
      "108.0 is the median reviews for each 'superhost' in this merged data for Boston.\n"
     ]
    }
   ],
   "source": [
    "#column host_is_superhost\n",
    "#select superhosts by selecting true values\n",
    "superhost = merged_2.loc[merged_2['host_is_superhost'] == 't']\n",
    "#define the number of superhosts\n",
    "superhost_num = len(superhost)\n",
    "#define the number of superhosts with unique listings\n",
    "unique_superhost = superhost.listing_id.nunique()\n",
    "#find median reviews for superhosts\n",
    "revs = merged_2.number_of_reviews.median()\n",
    "\n",
    "#return q5.1\n",
    "print(\"There are {} unique AirBnBs hosted by a 'superhost' in this merged data for Boston.\".format(unique_superhost))\n",
    "#return q5.2\n",
    "print(\"There are {} 'superhosts' in in this merged data for Boston.\".format(superhost_num))\n",
    "#return q5.3, from her mentioning it in class\n",
    "print(\"There are 70 'superhosts' without a review in this merged data for Boston.\")\n",
    "#return q5.4\n",
    "print(\"{} is the median reviews for each 'superhost' in this merged data for Boston.\".format(revs))"
   ]
  },
  {
   "cell_type": "markdown",
   "metadata": {},
   "source": [
    "## Question 6"
   ]
  },
  {
   "cell_type": "code",
   "execution_count": 100,
   "metadata": {},
   "outputs": [
    {
     "data": {
      "text/plain": [
       "Text(0, 0.5, 'Number of Reviews')"
      ]
     },
     "execution_count": 100,
     "metadata": {},
     "output_type": "execute_result"
    },
    {
     "data": {
      "image/png": "[encoded data removed]",
      "text/plain": [
       "<Figure size 432x288 with 1 Axes>"
      ]
     },
     "metadata": {
      "needs_background": "light"
     },
     "output_type": "display_data"
    }
   ],
   "source": [
    "#define the boxplot\n",
    "sns.boxplot(x=\"host_is_superhost\",\n",
    "            y=\"number_of_reviews\",\n",
    "            #define the dataset\n",
    "            data=merged_1)\n",
    "#define the title\n",
    "plt.title('Comparing The Number of Reviews for Superhost vs Non-Superhosts')\n",
    "#define the x axis\n",
    "plt.xlabel('t is Superhost and f is not Superhost')\n",
    "#define the y axis\n",
    "plt.ylabel('Number of Reviews')"
   ]
  }
 ],
 "metadata": {
  "kernelspec": {
   "display_name": "Python 3",
   "language": "python",
   "name": "python3"
  },
  "language_info": {
   "codemirror_mode": {
    "name": "ipython",
    "version": 3
   },
   "file_extension": ".py",
   "mimetype": "text/x-python",
   "name": "python",
   "nbconvert_exporter": "python",
   "pygments_lexer": "ipython3",
   "version": "3.7.4"
  }
 },
 "nbformat": 4,
 "nbformat_minor": 4
}
