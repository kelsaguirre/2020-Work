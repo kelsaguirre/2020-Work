{
 "cells": [
  {
   "cell_type": "markdown",
   "metadata": {},
   "source": [
    "# Lab 5"
   ]
  },
  {
   "cell_type": "markdown",
   "metadata": {},
   "source": [
    "github link: https://github.com/kelseyaguirre/Lab_5"
   ]
  },
  {
   "cell_type": "code",
   "execution_count": 226,
   "metadata": {},
   "outputs": [],
   "source": [
    "#import libraries\n",
    "import pandas as pd\n",
    "import numpy as np\n",
    "from sklearn.datasets.samples_generator import make_blobs\n",
    "import matplotlib.pyplot as plt\n",
    "from sklearn.cluster import KMeans\n",
    "import scipy.cluster.hierarchy as shc\n",
    "from sklearn.cluster import AgglomerativeClustering"
   ]
  },
  {
   "cell_type": "markdown",
   "metadata": {},
   "source": [
    "## Question 1"
   ]
  },
  {
   "cell_type": "code",
   "execution_count": 199,
   "metadata": {},
   "outputs": [],
   "source": [
    "#1.a\n",
    "#generate simulated data\n",
    "#center is the three different classes\n",
    "#random_state is like setting a seed\n",
    "x, y = make_blobs(n_samples = 60, centers = 3, n_features = 50, random_state = 0, cluster_std = 10)\n"
   ]
  },
  {
   "cell_type": "code",
   "execution_count": 200,
   "metadata": {},
   "outputs": [
    {
     "name": "stdout",
     "output_type": "stream",
     "text": [
      "col_0   0   1   2\n",
      "row_0            \n",
      "0       0  20   0\n",
      "1       0   0  20\n",
      "2      20   0   0\n"
     ]
    }
   ],
   "source": [
    "#1.b\n",
    "#exact same as lectures but with 3 not 4 - from our TA helping\n",
    "#define the K-means as 3\n",
    "kmeans = KMeans(n_clusters = 3)\n",
    "#take it of x\n",
    "kmeans.fit(x)\n",
    "y_kmeans = kmeans.predict(x)\n",
    "#create the table\n",
    "crosstab = pd.crosstab(y,y_kmeans)\n",
    "#show the table\n",
    "print(crosstab)"
   ]
  },
  {
   "cell_type": "markdown",
   "metadata": {},
   "source": [
    "After repeating the results from 1.b many times, you can see that with the 20 obervations, when K = 3 for k-means clustering the results usually mimic the true class labels. You can visualize this with 20 obervations changing between runs and being separated in each of the 3 columns on the table representation."
   ]
  },
  {
   "cell_type": "code",
   "execution_count": 201,
   "metadata": {},
   "outputs": [
    {
     "name": "stdout",
     "output_type": "stream",
     "text": [
      "col_0   0   1\n",
      "row_0        \n",
      "0      20   0\n",
      "1       0  20\n",
      "2      20   0\n"
     ]
    }
   ],
   "source": [
    "#1.c\n",
    "#define the K-means as 2\n",
    "kmeans = KMeans(n_clusters = 2)\n",
    "#take it from simulated data\n",
    "kmeans.fit(x)\n",
    "y_kmeans = kmeans.predict(x)\n",
    "#create the table\n",
    "crosstab = pd.crosstab(y,y_kmeans)\n",
    "#show the table\n",
    "print(crosstab)"
   ]
  },
  {
   "cell_type": "markdown",
   "metadata": {},
   "source": [
    "After repeating the results from 1.c many times, you can see that with 20 obervations and three centers, when K = 2 for k-means clustering the results basically mimic the true class labels. When K = 2 (two columns in the table) then one of the two columns usually gets 40 of the observations but they're separated by 20 and 20, similar to the true class labels. But since my standard deviation is ten, sometimes the third center will be divided among the two columns and the 20 observations are separated."
   ]
  },
  {
   "cell_type": "code",
   "execution_count": 202,
   "metadata": {},
   "outputs": [
    {
     "name": "stdout",
     "output_type": "stream",
     "text": [
      "col_0  0   1   2   3\n",
      "row_0               \n",
      "0      0  20   0   0\n",
      "1      5   0   0  15\n",
      "2      0   0  20   0\n"
     ]
    }
   ],
   "source": [
    "#1.d\n",
    "#define the K-means as 4\n",
    "kmeans = KMeans(n_clusters = 4)\n",
    "#take it from simulated data\n",
    "kmeans.fit(x)\n",
    "y_kmeans = kmeans.predict(x)\n",
    "#create the table\n",
    "crosstab = pd.crosstab(y,y_kmeans)\n",
    "#show the table\n",
    "print(crosstab)"
   ]
  },
  {
   "cell_type": "markdown",
   "metadata": {},
   "source": [
    "After repeating the code from 1.d many times, you can see that with 20 obervations, three centers, a seed set and the sd being ten, when K = 4 for k-means clustering the results begin to stray more from the true class labels. When K = 4, two of the four columns consistently have their 20 observations divided to still equal 20, but separated. Then sometimes, a second cluster is also separated."
   ]
  },
  {
   "cell_type": "code",
   "execution_count": 203,
   "metadata": {},
   "outputs": [],
   "source": [
    "#1.e\n",
    "#changing my above work to now have a sd of 1 for question e\n",
    "#changed the seed number\n",
    "x, y = make_blobs(n_samples = 60, \n",
    "                  centers = 3, \n",
    "                  n_features = 50, \n",
    "                  random_state = 2, \n",
    "                  cluster_std = 1)"
   ]
  },
  {
   "cell_type": "code",
   "execution_count": 212,
   "metadata": {},
   "outputs": [
    {
     "name": "stdout",
     "output_type": "stream",
     "text": [
      "col_0   0   1   2\n",
      "row_0            \n",
      "0       0   0  20\n",
      "1      20   0   0\n",
      "2       0  20   0\n"
     ]
    }
   ],
   "source": [
    "#1.e continued\n",
    "#define the K-means as 3 with diff sd\n",
    "kmeans = KMeans(n_clusters = 3)\n",
    "#take it from new simulated data\n",
    "kmeans.fit(x)\n",
    "y_kmeans = kmeans.predict(x)\n",
    "#create the table\n",
    "crosstab = pd.crosstab(y,y_kmeans)\n",
    "#show the table\n",
    "print(crosstab)"
   ]
  },
  {
   "cell_type": "markdown",
   "metadata": {},
   "source": [
    "In this simulation I still have: 20 obervations, three centers and a seed set, but the sd was lowered to one. After repeating the code from 1.e many times and comparing those results to 1.b, when K = 3 for k-means (same between the two) the clustering in the results here are extremely consistent, they have little variety between the clusters, and they mimic the true class labels even more due to the new lower standard deviation. This is unlike the results in 1.b because 1.b had a bit more variation."
   ]
  },
  {
   "cell_type": "markdown",
   "metadata": {},
   "source": [
    "## Question 2"
   ]
  },
  {
   "cell_type": "code",
   "execution_count": 243,
   "metadata": {},
   "outputs": [],
   "source": [
    "#read in the CSV, excluding the header so the first gene is included in the set\n",
    "#2.a\n",
    "tissues_genes =  pd.read_csv('Documents/Data_Science_I/Week_12/Lab_5/Ch10Ex11.csv', header = None)\n",
    "#first 20 columns are healthy patients and second 40 are from the diseased group\n",
    "#column is the tissue sample, row is gene express"
   ]
  },
  {
   "cell_type": "code",
   "execution_count": 244,
   "metadata": {},
   "outputs": [],
   "source": [
    "#transpose before clustering\n",
    "tissues_genes_2 = tissues_genes.transpose()"
   ]
  },
  {
   "cell_type": "markdown",
   "metadata": {},
   "source": [
    "#### Single Linkage"
   ]
  },
  {
   "cell_type": "code",
   "execution_count": 245,
   "metadata": {},
   "outputs": [
    {
     "data": {
      "image/png": "[encoded data removed]",
      "text/plain": [
       "<Figure size 432x288 with 1 Axes>"
      ]
     },
     "metadata": {
      "needs_background": "light"
     },
     "output_type": "display_data"
    }
   ],
   "source": [
    "#2.b\n",
    "#apply hierarchical clustering\n",
    "#single linkage display\n",
    "dend = shc.dendrogram(shc.linkage(tissues_genes_2, metric = 'Euclidean', method = 'single'))"
   ]
  },
  {
   "cell_type": "markdown",
   "metadata": {},
   "source": [
    "#### Complete Linkage"
   ]
  },
  {
   "cell_type": "code",
   "execution_count": 246,
   "metadata": {},
   "outputs": [
    {
     "data": {
      "image/png": "[encoded data removed]",
      "text/plain": [
       "<Figure size 432x288 with 1 Axes>"
      ]
     },
     "metadata": {
      "needs_background": "light"
     },
     "output_type": "display_data"
    }
   ],
   "source": [
    "#apply hierarchical clustering\n",
    "#complete linkage display\n",
    "dend_2 = shc.dendrogram(shc.linkage(tissues_genes_2, metric = 'Euclidean', method = 'complete'))"
   ]
  },
  {
   "cell_type": "markdown",
   "metadata": {},
   "source": [
    "#### Average Linkage"
   ]
  },
  {
   "cell_type": "code",
   "execution_count": 247,
   "metadata": {},
   "outputs": [
    {
     "data": {
      "image/png": "[encoded data removed]",
      "text/plain": [
       "<Figure size 432x288 with 1 Axes>"
      ]
     },
     "metadata": {
      "needs_background": "light"
     },
     "output_type": "display_data"
    }
   ],
   "source": [
    "#apply hierarchical clustering\n",
    "#average linkage display\n",
    "dend_3 = shc.dendrogram(shc.linkage(tissues_genes_2, metric = 'Euclidean', method = 'average'))"
   ]
  },
  {
   "cell_type": "markdown",
   "metadata": {},
   "source": [
    "Question 2: Fortunately, the genes for each dendrogram do separate into two different groups: healthy and diseased patients. As you can see, results do change between each type of linkage. For average and complete linkage you can see more inter-cluster dissimilarity, due to the nature of the calculations. Complete is the most dissimilar because its displaying the largest of the pairwise dissimilarities between cluster healthy and diseased patients. Average linkage is is displaying the average of this calculation and then single linkage is displaying the smallest, which is clear with the minimal divides and shortest distances at the top of its dendrogram."
   ]
  }
 ],
 "metadata": {
  "kernelspec": {
   "display_name": "Python 3",
   "language": "python",
   "name": "python3"
  },
  "language_info": {
   "codemirror_mode": {
    "name": "ipython",
    "version": 3
   },
   "file_extension": ".py",
   "mimetype": "text/x-python",
   "name": "python",
   "nbconvert_exporter": "python",
   "pygments_lexer": "ipython3",
   "version": "3.7.4"
  }
 },
 "nbformat": 4,
 "nbformat_minor": 2
}
